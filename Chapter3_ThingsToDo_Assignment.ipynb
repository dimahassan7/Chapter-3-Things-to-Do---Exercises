{
 "cells": [
  {
   "cell_type": "markdown",
   "id": "b02bb6a7-ac33-40ed-a75a-d74b3e40a919",
   "metadata": {},
   "source": [
    "# Chapter 3: Things to Do - Exercises\n",
    "\n",
    "This notebook covers the exercises from Chapter 3, focusing on numbers, booleans, and variables in Python."
   ]
  },
  {
   "cell_type": "code",
   "execution_count": 1,
   "id": "d1644f9d-d9cf-433e-b30c-9f4d53895c22",
   "metadata": {},
   "outputs": [
    {
     "data": {
      "text/plain": [
       "3600"
      ]
     },
     "execution_count": 1,
     "metadata": {},
     "output_type": "execute_result"
    }
   ],
   "source": [
    "# 3.1 How many seconds are in an hour?\n",
    "# Use the interactive interpreter as a calculator and multiply the number of seconds in a minute (60)\n",
    "# by the number of minutes in an hour (also 60).\n",
    "60 * 60\n"
   ]
  },
  {
   "cell_type": "markdown",
   "id": "ffed656e-ab8a-4e23-8778-5057138a750b",
   "metadata": {},
   "source": [
    "There are 3600 seconds in one hour"
   ]
  },
  {
   "cell_type": "code",
   "execution_count": 3,
   "id": "659420d2-03fb-4663-863a-c88655d08cfd",
   "metadata": {},
   "outputs": [
    {
     "data": {
      "text/plain": [
       "3600"
      ]
     },
     "execution_count": 3,
     "metadata": {},
     "output_type": "execute_result"
    }
   ],
   "source": [
    "seconds_per_hour = 60 * 60\n",
    "seconds_per_hour"
   ]
  },
  {
   "cell_type": "markdown",
   "id": "26e37fea-c7bd-4272-9433-56fde1f7c3a6",
   "metadata": {},
   "source": [
    "How many seconds are in a day?"
   ]
  },
  {
   "cell_type": "code",
   "execution_count": 4,
   "id": "722ef1ea-9563-4dcc-a370-9f023cdd8d02",
   "metadata": {},
   "outputs": [
    {
     "data": {
      "text/plain": [
       "86400"
      ]
     },
     "execution_count": 4,
     "metadata": {},
     "output_type": "execute_result"
    }
   ],
   "source": [
    "seconds_per_hour * 24\n"
   ]
  },
  {
   "cell_type": "markdown",
   "id": "89085168-6295-4d8a-9f18-cfc58769eded",
   "metadata": {},
   "source": [
    "3.4 Calculate seconds per day again, but this time save the result in a variable called seconds_per_day."
   ]
  },
  {
   "cell_type": "code",
   "execution_count": 6,
   "id": "99cde3f1-8334-41cf-9d2e-7e67fe95e9f8",
   "metadata": {},
   "outputs": [
    {
     "data": {
      "text/plain": [
       "86400"
      ]
     },
     "execution_count": 6,
     "metadata": {},
     "output_type": "execute_result"
    }
   ],
   "source": [
    "seconds_per_day = seconds_per_hour * 24\n",
    "seconds_per_day"
   ]
  },
  {
   "cell_type": "markdown",
   "id": "4f1eede3-8ad1-41cd-b5f0-f72e21610849",
   "metadata": {},
   "source": [
    "3.5 Divide seconds_per_day by seconds_per_hour. Use floating-point (/) division.\n"
   ]
  },
  {
   "cell_type": "code",
   "execution_count": 7,
   "id": "748e047d-3cec-4a7d-9251-07241b5dd2fc",
   "metadata": {},
   "outputs": [
    {
     "data": {
      "text/plain": [
       "24.0"
      ]
     },
     "execution_count": 7,
     "metadata": {},
     "output_type": "execute_result"
    }
   ],
   "source": [
    "seconds_per_day / seconds_per_hour\n"
   ]
  },
  {
   "cell_type": "markdown",
   "id": "7600af24-f5f3-4695-86eb-95c448206bf5",
   "metadata": {},
   "source": [
    "3.6 Divide seconds_per_day by seconds_per_hour, using integer (//) division."
   ]
  },
  {
   "cell_type": "code",
   "execution_count": 8,
   "id": "81e58bef-b766-4314-91a1-3d6da7d563ee",
   "metadata": {},
   "outputs": [
    {
     "data": {
      "text/plain": [
       "24"
      ]
     },
     "execution_count": 8,
     "metadata": {},
     "output_type": "execute_result"
    }
   ],
   "source": [
    "seconds_per_day // seconds_per_hour"
   ]
  },
  {
   "cell_type": "code",
   "execution_count": null,
   "id": "661f661e-d18d-4050-984a-690b3b21bdd1",
   "metadata": {},
   "outputs": [],
   "source": []
  }
 ],
 "metadata": {
  "kernelspec": {
   "display_name": "Python 3 (ipykernel)",
   "language": "python",
   "name": "python3"
  },
  "language_info": {
   "codemirror_mode": {
    "name": "ipython",
    "version": 3
   },
   "file_extension": ".py",
   "mimetype": "text/x-python",
   "name": "python",
   "nbconvert_exporter": "python",
   "pygments_lexer": "ipython3",
   "version": "3.11.2"
  }
 },
 "nbformat": 4,
 "nbformat_minor": 5
}
